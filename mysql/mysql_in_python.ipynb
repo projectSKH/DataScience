{
 "cells": [
  {
   "cell_type": "code",
   "execution_count": 1,
   "id": "2ba9d13c",
   "metadata": {},
   "outputs": [],
   "source": [
    "from mysql import connector\n",
    "import pandas as pd"
   ]
  },
  {
   "cell_type": "code",
   "execution_count": 38,
   "id": "80f576d5",
   "metadata": {},
   "outputs": [
    {
     "name": "stdout",
     "output_type": "stream",
     "text": [
      "It is connect\n"
     ]
    }
   ],
   "source": [
    "config = {\"user\":\"root\", \"password\":\"sanaz11\", \"host\":\"localhost\"}\n",
    "mydb = connector.connect(**config)\n",
    "if mydb.is_connected():\n",
    "    my_cursor = mydb.cursor()\n",
    "    print(\"It is connect\")\n",
    "else:\n",
    "    print(\"It is n't connect\")"
   ]
  },
  {
   "cell_type": "code",
   "execution_count": 40,
   "id": "ce52fdcb",
   "metadata": {},
   "outputs": [],
   "source": [
    "query = \"CREATE DATABASE testdatabase\"\n",
    "my_cursor.execute(query)"
   ]
  },
  {
   "cell_type": "code",
   "execution_count": 41,
   "id": "d2161536",
   "metadata": {},
   "outputs": [
    {
     "data": {
      "text/plain": [
       "[('c',),\n",
       " ('classicmodels',),\n",
       " ('information_schema',),\n",
       " ('mydatabase',),\n",
       " ('mysql',),\n",
       " ('performance_schema',),\n",
       " ('test_db',),\n",
       " ('testdatabase',)]"
      ]
     },
     "execution_count": 41,
     "metadata": {},
     "output_type": "execute_result"
    }
   ],
   "source": [
    "query = \"SHOW DATABASES\"\n",
    "my_cursor.execute(query)\n",
    "my_cursor.fetchall()"
   ]
  },
  {
   "cell_type": "code",
   "execution_count": 45,
   "id": "61a7131b",
   "metadata": {},
   "outputs": [],
   "source": [
    "query = \"CREATE TABLE testdatabase.mytable(id INT, name VARCHAR(50))\"\n",
    "my_cursor.execute(query)"
   ]
  },
  {
   "cell_type": "code",
   "execution_count": 48,
   "id": "82be3a24",
   "metadata": {},
   "outputs": [
    {
     "data": {
      "text/plain": [
       "('mytable',)"
      ]
     },
     "execution_count": 48,
     "metadata": {},
     "output_type": "execute_result"
    }
   ],
   "source": [
    "query = \"SHOW TABLES FROM testdatabase\"\n",
    "my_cursor.execute(query)\n",
    "my_cursor.fetchone()"
   ]
  },
  {
   "cell_type": "code",
   "execution_count": 50,
   "id": "bdd94ca2",
   "metadata": {},
   "outputs": [],
   "source": [
    "query = \"ALTER TABLE testdatabase.mytable modify id INT PRIMARY KEY AUTO_INCREMENT\"\n",
    "my_cursor.execute(query)"
   ]
  },
  {
   "cell_type": "markdown",
   "id": "236b2d06",
   "metadata": {},
   "source": [
    "# Insert into my table"
   ]
  },
  {
   "cell_type": "code",
   "execution_count": 53,
   "id": "dd211984",
   "metadata": {},
   "outputs": [],
   "source": [
    "query_insert = \"INSERT INTO testdatabase.mytable(name) VALUES('sara')\"\n",
    "my_cursor.execute(query_insert)"
   ]
  },
  {
   "cell_type": "code",
   "execution_count": 54,
   "id": "79fd2690",
   "metadata": {},
   "outputs": [],
   "source": [
    "query_insert = \"INSERT INTO testdatabase.mytable(name) VALUES('ali'),('zahra')\"\n",
    "my_cursor.execute(query_insert)"
   ]
  },
  {
   "cell_type": "code",
   "execution_count": 55,
   "id": "d261169e",
   "metadata": {},
   "outputs": [],
   "source": [
    "query_insert = \"INSERT INTO testdatabase.mytable(name) VALUES(%s)\"\n",
    "name = \"amir\"\n",
    "my_cursor.execute(query_insert, (name, ))"
   ]
  },
  {
   "cell_type": "code",
   "execution_count": 57,
   "id": "ff5a3b68",
   "metadata": {},
   "outputs": [],
   "source": [
    "name = \"sasan\"\n",
    "query_insert = \"INSERT INTO testdatabase.mytable(name) VALUES('{}')\".format(name)\n",
    "my_cursor.execute(query_insert)"
   ]
  },
  {
   "cell_type": "code",
   "execution_count": 62,
   "id": "fa62f4b6",
   "metadata": {},
   "outputs": [],
   "source": [
    "name = ([\"afson\"], [\"saman\"])\n",
    "query_insert = \"INSERT INTO testdatabase.mytable(name) VALUES(%s)\"\n",
    "my_cursor.executemany(query_insert, name)"
   ]
  },
  {
   "cell_type": "code",
   "execution_count": 63,
   "id": "1337128d",
   "metadata": {},
   "outputs": [
    {
     "data": {
      "text/plain": [
       "[(1, 'sara'),\n",
       " (2, 'ali'),\n",
       " (3, 'zahra'),\n",
       " (4, 'amir'),\n",
       " (5, 'sasan'),\n",
       " (6, 'afson'),\n",
       " (7, 'saman')]"
      ]
     },
     "execution_count": 63,
     "metadata": {},
     "output_type": "execute_result"
    }
   ],
   "source": [
    "query = \"SELECT * FROM testdatabase.mytable\"\n",
    "my_cursor.execute(query)\n",
    "my_cursor.fetchall()"
   ]
  },
  {
   "cell_type": "markdown",
   "id": "36cce1be",
   "metadata": {},
   "source": [
    "# write query on some tabel"
   ]
  },
  {
   "cell_type": "code",
   "execution_count": 36,
   "id": "a12bebda",
   "metadata": {},
   "outputs": [
    {
     "data": {
      "text/plain": [
       "[('addressLine1',),\n",
       " ('addressLine2',),\n",
       " ('city',),\n",
       " ('contactFirstName',),\n",
       " ('contactLastName',),\n",
       " ('country',),\n",
       " ('creditLimit',),\n",
       " ('customerName',),\n",
       " ('customerNumber',),\n",
       " ('phone',),\n",
       " ('postalCode',),\n",
       " ('salesRepEmployeeNumber',),\n",
       " ('state',)]"
      ]
     },
     "execution_count": 36,
     "metadata": {},
     "output_type": "execute_result"
    }
   ],
   "source": [
    "query = \"SELECT column_name from information_schema.columns where table_name='customers' and table_schema = 'classicmodels'\"\n",
    "\n",
    "my_cursor.execute(query)\n",
    "my_cursor.fetchall()"
   ]
  },
  {
   "cell_type": "code",
   "execution_count": 2,
   "id": "91deb2b5",
   "metadata": {},
   "outputs": [
    {
     "name": "stdout",
     "output_type": "stream",
     "text": [
      "It is connect\n"
     ]
    }
   ],
   "source": [
    "config = {\"user\":\"root\", \"password\":\"sanaz11\", \"host\":\"localhost\", \"database\":\"classicmodels\"}\n",
    "mydb = connector.connect(**config)\n",
    "if mydb.is_connected():\n",
    "    my_cursor = mydb.cursor()\n",
    "    print(\"It is connect\")\n",
    "else:\n",
    "    print(\"It is n't connect\")"
   ]
  },
  {
   "cell_type": "code",
   "execution_count": 19,
   "id": "e5082be2",
   "metadata": {
    "collapsed": true
   },
   "outputs": [
    {
     "ename": "ProgrammingError",
     "evalue": "1172 (42000): Result consisted of more than one row",
     "output_type": "error",
     "traceback": [
      "\u001b[1;31m---------------------------------------------------------------------------\u001b[0m",
      "\u001b[1;31mMySQLInterfaceError\u001b[0m                       Traceback (most recent call last)",
      "\u001b[1;32m~\\anaconda3\\lib\\site-packages\\mysql\\connector\\connection_cext.py\u001b[0m in \u001b[0;36mcmd_query\u001b[1;34m(self, query, raw, buffered, raw_as_string)\u001b[0m\n\u001b[0;32m    607\u001b[0m                 \u001b[0mquery\u001b[0m \u001b[1;33m=\u001b[0m \u001b[0mquery\u001b[0m\u001b[1;33m.\u001b[0m\u001b[0mencode\u001b[0m\u001b[1;33m(\u001b[0m\u001b[1;34m\"utf-8\"\u001b[0m\u001b[1;33m)\u001b[0m\u001b[1;33m\u001b[0m\u001b[1;33m\u001b[0m\u001b[0m\n\u001b[1;32m--> 608\u001b[1;33m             self._cmysql.query(\n\u001b[0m\u001b[0;32m    609\u001b[0m                 \u001b[0mquery\u001b[0m\u001b[1;33m,\u001b[0m\u001b[1;33m\u001b[0m\u001b[1;33m\u001b[0m\u001b[0m\n",
      "\u001b[1;31mMySQLInterfaceError\u001b[0m: Result consisted of more than one row",
      "\nThe above exception was the direct cause of the following exception:\n",
      "\u001b[1;31mProgrammingError\u001b[0m                          Traceback (most recent call last)",
      "\u001b[1;32m~\\AppData\\Local\\Temp\\ipykernel_5436\\2032618054.py\u001b[0m in \u001b[0;36m<module>\u001b[1;34m\u001b[0m\n\u001b[0;32m      1\u001b[0m \u001b[0mquery\u001b[0m \u001b[1;33m=\u001b[0m \u001b[1;34m\"CREATE PROCEDURE myprocedur5 (IN custID INT, OUT contactFirstName VARCHAR(50)) BEGIN SELECT contactFirstName INTO contactFirstName FROM customers; END\"\u001b[0m\u001b[1;33m\u001b[0m\u001b[1;33m\u001b[0m\u001b[0m\n\u001b[0;32m      2\u001b[0m \u001b[0mmy_cursor\u001b[0m\u001b[1;33m.\u001b[0m\u001b[0mexecute\u001b[0m\u001b[1;33m(\u001b[0m\u001b[0mquery\u001b[0m\u001b[1;33m)\u001b[0m\u001b[1;33m\u001b[0m\u001b[1;33m\u001b[0m\u001b[0m\n\u001b[1;32m----> 3\u001b[1;33m \u001b[0mmy_cursor\u001b[0m\u001b[1;33m.\u001b[0m\u001b[0mcallproc\u001b[0m\u001b[1;33m(\u001b[0m\u001b[1;34m'myprocedur5'\u001b[0m\u001b[1;33m,\u001b[0m\u001b[1;33m[\u001b[0m\u001b[1;36m11\u001b[0m\u001b[1;33m,\u001b[0m\u001b[1;36m12\u001b[0m\u001b[1;33m]\u001b[0m\u001b[1;33m)\u001b[0m\u001b[1;33m\u001b[0m\u001b[1;33m\u001b[0m\u001b[0m\n\u001b[0m",
      "\u001b[1;32m~\\anaconda3\\lib\\site-packages\\mysql\\connector\\cursor_cext.py\u001b[0m in \u001b[0;36mcallproc\u001b[1;34m(self, procname, args)\u001b[0m\n\u001b[0;32m    538\u001b[0m             \u001b[0mcall\u001b[0m \u001b[1;33m=\u001b[0m \u001b[1;34mf\"CALL {procname}({','.join(argnames)})\"\u001b[0m\u001b[1;33m\u001b[0m\u001b[1;33m\u001b[0m\u001b[0m\n\u001b[0;32m    539\u001b[0m \u001b[1;33m\u001b[0m\u001b[0m\n\u001b[1;32m--> 540\u001b[1;33m             result = self._cnx.cmd_query(\n\u001b[0m\u001b[0;32m    541\u001b[0m                 \u001b[0mcall\u001b[0m\u001b[1;33m,\u001b[0m \u001b[0mraw\u001b[0m\u001b[1;33m=\u001b[0m\u001b[0mself\u001b[0m\u001b[1;33m.\u001b[0m\u001b[0m_raw\u001b[0m\u001b[1;33m,\u001b[0m \u001b[0mraw_as_string\u001b[0m\u001b[1;33m=\u001b[0m\u001b[0mself\u001b[0m\u001b[1;33m.\u001b[0m\u001b[0m_raw_as_string\u001b[0m\u001b[1;33m\u001b[0m\u001b[1;33m\u001b[0m\u001b[0m\n\u001b[0;32m    542\u001b[0m             )\n",
      "\u001b[1;32m~\\anaconda3\\lib\\site-packages\\mysql\\connector\\connection_cext.py\u001b[0m in \u001b[0;36mcmd_query\u001b[1;34m(self, query, raw, buffered, raw_as_string)\u001b[0m\n\u001b[0;32m    614\u001b[0m             )\n\u001b[0;32m    615\u001b[0m         \u001b[1;32mexcept\u001b[0m \u001b[0mMySQLInterfaceError\u001b[0m \u001b[1;32mas\u001b[0m \u001b[0merr\u001b[0m\u001b[1;33m:\u001b[0m\u001b[1;33m\u001b[0m\u001b[1;33m\u001b[0m\u001b[0m\n\u001b[1;32m--> 616\u001b[1;33m             raise get_mysql_exception(\n\u001b[0m\u001b[0;32m    617\u001b[0m                 \u001b[0merr\u001b[0m\u001b[1;33m.\u001b[0m\u001b[0merrno\u001b[0m\u001b[1;33m,\u001b[0m \u001b[0mmsg\u001b[0m\u001b[1;33m=\u001b[0m\u001b[0merr\u001b[0m\u001b[1;33m.\u001b[0m\u001b[0mmsg\u001b[0m\u001b[1;33m,\u001b[0m \u001b[0msqlstate\u001b[0m\u001b[1;33m=\u001b[0m\u001b[0merr\u001b[0m\u001b[1;33m.\u001b[0m\u001b[0msqlstate\u001b[0m\u001b[1;33m\u001b[0m\u001b[1;33m\u001b[0m\u001b[0m\n\u001b[0;32m    618\u001b[0m             ) from err\n",
      "\u001b[1;31mProgrammingError\u001b[0m: 1172 (42000): Result consisted of more than one row"
     ]
    }
   ],
   "source": [
    "query = \"CREATE PROCEDURE myprocedure (IN custID INT, OUT contactFirstName VARCHAR(50)) BEGIN SELECT contactFirstName INTO contactFirstName FROM customers; END\"\n",
    "my_cursor.execute(query)\n",
    "my_cursor.callproc('myprocedure4',[11,]) "
   ]
  }
 ],
 "metadata": {
  "kernelspec": {
   "display_name": "Python 3 (ipykernel)",
   "language": "python",
   "name": "python3"
  },
  "language_info": {
   "codemirror_mode": {
    "name": "ipython",
    "version": 3
   },
   "file_extension": ".py",
   "mimetype": "text/x-python",
   "name": "python",
   "nbconvert_exporter": "python",
   "pygments_lexer": "ipython3",
   "version": "3.9.13"
  }
 },
 "nbformat": 4,
 "nbformat_minor": 5
}
